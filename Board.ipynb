{
 "cells": [
  {
   "cell_type": "code",
   "execution_count": 1,
   "metadata": {
    "collapsed": true
   },
   "outputs": [],
   "source": [
    "import numpy as np\n",
    "import random "
   ]
  },
  {
   "cell_type": "code",
   "execution_count": 2,
   "metadata": {
    "collapsed": false
   },
   "outputs": [],
   "source": [
    "TABLE_SIZE = 5\n",
    "ADJECENT = {}\n",
    "table_init = np.zeros((TABLE_SIZE, TABLE_SIZE))\n",
    "for i in range(TABLE_SIZE):\n",
    "    for j in range(TABLE_SIZE):\n",
    "        ADJECENT[(i, j)] = []\n",
    "        current_cell = np.array([i, j])\n",
    "        for a in np.array([[0,1], [1, 0], [-1, 0], [0, -1]]):\n",
    "            adj = current_cell + a\n",
    "            if adj[0] >= 0 and adj[0] < TABLE_SIZE and adj[1] >= 0 and adj[1] < TABLE_SIZE:\n",
    "                ADJECENT[(i, j)].append(tuple(adj))\n"
   ]
  },
  {
   "cell_type": "code",
   "execution_count": 23,
   "metadata": {
    "collapsed": true
   },
   "outputs": [],
   "source": [
    "def random_next(max_board):\n",
    "    \"\"\"盤面の最大の数字がmax_boardのとき、埋める数字から確率的に傾斜をかけてひとつ選び返す\"\"\"\n",
    "    if max_board <= 5:\n",
    "        max_num = 3\n",
    "    else:\n",
    "        max_num = max_board - 2\n",
    "    \n",
    "    prob = {}\n",
    "    for i in xrange(1, max_num + 1):\n",
    "        prob[i] = max_num + 1 - i \n",
    "        s = 0\n",
    "    for k, p in prob.items():\n",
    "        s += p\n",
    "    r = random.uniform(0, s)\n",
    "    s = 0\n",
    "    for k, p in prob.items():\n",
    "        s += p\n",
    "        if r < s:\n",
    "            return k"
   ]
  },
  {
   "cell_type": "code",
   "execution_count": 24,
   "metadata": {
    "collapsed": false
   },
   "outputs": [],
   "source": [
    "class Board():\n",
    "    \"\"\"盤面のクラス\"\"\"\n",
    "    def __init__(self):\n",
    "        \"\"\"盤面の初期化。完全ランダムで埋める\"\"\"\n",
    "        self.board = np.zeros((TABLE_SIZE, TABLE_SIZE), dtype = np.int32 )\n",
    "        self.selectable = self.__selectable_list()\n",
    "        for i in range(TABLE_SIZE):\n",
    "            for j in range(TABLE_SIZE):\n",
    "                self.board[i, j] = random.randint(1, 3)\n",
    "        self.turn_number = 0\n",
    "                   \n",
    "    def select_cell(self, cell):\n",
    "        \"\"\"セルを選択し、消去。その後下に落とし新しいところは埋める\"\"\"\n",
    "        init_cell = self.board[cell]\n",
    "        self.__connect(cell)\n",
    "        self.__erace_connected()\n",
    "        if self.con_list != []:\n",
    "            self.board[cell] = init_cell + 1\n",
    "            self.__drop()\n",
    "        self.__renew_board()\n",
    "        self.turn_number += 1\n",
    "        self.selectable = self.__selectable_list()\n",
    "    def selectable_list(self):\n",
    "        return self.selectable\n",
    "        \n",
    "        \n",
    "    def play_game(self):\n",
    "        \"\"\"ゲームをプレイする。入力はx座標y座標を一個ずつ打ち込む。終わり判定なし。10ターンで終了\"\"\"\n",
    "        n = 0\n",
    "        while n < 10:\n",
    "            self.print_board()\n",
    "            cell = self.__get_valid_input()\n",
    "            self.select_cell(cell)\n",
    "            n += 1\n",
    "    def print_board(self):\n",
    "        \"\"\"ボードを表示する。座標番号つき\"\"\"\n",
    "        s= \" \"\n",
    "        for i in range(TABLE_SIZE):\n",
    "            s = s +\" \" + str(i)\n",
    "        print s\n",
    "        \n",
    "        for i in range(TABLE_SIZE):\n",
    "            s = str(i)\n",
    "            for j in range(TABLE_SIZE):\n",
    "                s = s + \" \" + str(self.board[i, j]) \n",
    "            print s            \n",
    "    def is_selectable(self, cell):\n",
    "        \"\"\"cellの座標を選択できるかをBooleanで返す。選択できる場合にTrue\"\"\"\n",
    "        for i in ADJECENT[cell]:\n",
    "             if self.board[cell] == self.board[i]:\n",
    "                return True;\n",
    "        return False\n",
    "    \n",
    "    def __selectable_list(self):\n",
    "        \"\"\"選べる場所の集合.おける座標をタプルのセットで返す\"\"\"\n",
    "        l = []\n",
    "        for i in xrange(TABLE_SIZE):\n",
    "            for j in xrange(TABLE_SIZE):\n",
    "                if self.is_selectable((i, j)) == True:\n",
    "                    l.append((i, j))\n",
    "        return l\n",
    "    \n",
    "    def is_game_end(self):\n",
    "        \"\"\"おける場所がなくゲーム終了の場合にTrue,ゲームが続く場合Falseを返す\"\"\"\n",
    "        l = self.selectable_list()\n",
    "        if len(l) == 0:\n",
    "            return True\n",
    "        else:\n",
    "            return False\n",
    "    def max_board(self):\n",
    "        \"\"\"盤面の中で最大の値を返す\"\"\"\n",
    "        ma = -1\n",
    "        for i in range(TABLE_SIZE):\n",
    "            for j in range(TABLE_SIZE):\n",
    "                if self.board[i, j] >= ma:\n",
    "                    ma = self.board[i, j]\n",
    "        return ma\n",
    "        \n",
    "    def __connected(self, cell):\n",
    "        \n",
    "        \"\"\"選択したCellと同じ数字でつながっているCellの座標を返す。途中で使う用。\"\"\"\n",
    "        #cell is given as tuple \n",
    "        for x in ADJECENT[cell]:\n",
    "            \n",
    "            if self.board[cell] == self.board[x] and x not in self.con_list:\n",
    "                self.con_list.append(x)\n",
    "                self.__connected(x)        \n",
    "    def __connect(self, cell):\n",
    "        \n",
    "        \"\"\"選択したCellと同じ数字でつながっているCellの座標を返す\"\"\"\n",
    "        self.con_list = []\n",
    "        self.__connected(cell)\n",
    "        \n",
    "    def __erace_connected(self):\n",
    "        \"\"\"つながっている部分をすべて0に変える\"\"\"\n",
    "        for x in self.con_list:\n",
    "            self.board[x] = 0\n",
    "            \n",
    "    def __drop(self):\n",
    "        \n",
    "        \"\"\"0に変えた後0を消して上にある数字を下に落下させる\"\"\"\n",
    "        for i in xrange(TABLE_SIZE):\n",
    "            #move column i\n",
    "            new_column = []\n",
    "            for j in xrange(TABLE_SIZE):\n",
    "                if self.board[j, i] != 0:      #i列の０を除いたリスト上→下と右→左が対応\n",
    "                    new_column.append(self.board[j, i])\n",
    "            for k in xrange(-1, -TABLE_SIZE - 1, -1):\n",
    "                try:\n",
    "                    self.board[k, i] = new_column[k]\n",
    "                except IndexError:\n",
    "                    self.board[k, i] = 0\n",
    "    def __renew_board(self):\n",
    "        \"\"\"0になっているところをランダムに埋める\"\"\"\n",
    "        max_board = self.max_board()\n",
    "        for i in range(TABLE_SIZE):\n",
    "            for j in range(TABLE_SIZE):\n",
    "                if self.board[i, j] == 0:\n",
    "                    self.board[i, j ] = random_next(max_board)\n",
    "    def __get_valid_input(self):\n",
    "        \"\"\"入力をうけとりタプルで返す。\"\"\"\n",
    "        while True: \n",
    "            try:\n",
    "                a = raw_input(\"type x-axis\")\n",
    "                x = int(a)\n",
    "                if x >= 0 and x < TABLE_SIZE:\n",
    "                    break;\n",
    "                else :\n",
    "                    print \"type correct x-axis\"\n",
    "            except ValueError:\n",
    "                print(\"type an integer\")\n",
    "        while True: \n",
    "            try:\n",
    "                a = raw_input(\"type y-axis\")\n",
    "                y = int(a)\n",
    "                if y >= 0 and y < TABLE_SIZE:\n",
    "                    break;\n",
    "                else :\n",
    "                    print \"type correct y-axis\"\n",
    "            except ValueError:\n",
    "                print(\"type an integer\")\n",
    "        return(x, y)\n"
   ]
  },
  {
   "cell_type": "code",
   "execution_count": 31,
   "metadata": {
    "collapsed": false
   },
   "outputs": [],
   "source": [
    "if __name__ == \"__main__\":\n",
    "    x = Board()\n",
    "    def play():\n",
    "        for i in range(100000):\n",
    "            x.selectable_list()"
   ]
  },
  {
   "cell_type": "code",
   "execution_count": 28,
   "metadata": {
    "collapsed": false
   },
   "outputs": [
    {
     "name": "stdout",
     "output_type": "stream",
     "text": [
      "10 loops, best of 3: 20 ms per loop\n"
     ]
    }
   ],
   "source": [
    "%timeit play()"
   ]
  },
  {
   "cell_type": "code",
   "execution_count": null,
   "metadata": {
    "collapsed": true
   },
   "outputs": [],
   "source": []
  }
 ],
 "metadata": {
  "kernelspec": {
   "display_name": "Python 2",
   "language": "python",
   "name": "python2"
  },
  "language_info": {
   "codemirror_mode": {
    "name": "ipython",
    "version": 2
   },
   "file_extension": ".py",
   "mimetype": "text/x-python",
   "name": "python",
   "nbconvert_exporter": "python",
   "pygments_lexer": "ipython2",
   "version": "2.7.11"
  }
 },
 "nbformat": 4,
 "nbformat_minor": 0
}
